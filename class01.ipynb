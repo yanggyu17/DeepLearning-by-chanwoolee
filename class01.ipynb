{
 "cells": [
  {
   "cell_type": "code",
   "execution_count": 9,
   "metadata": {},
   "outputs": [
    {
     "name": "stdout",
     "output_type": "stream",
     "text": [
      "Tensor(\"Const_10:0\", shape=(), dtype=string)\n",
      "Tensor(\"Const_11:0\", shape=(), dtype=int32)\n",
      "Tensor(\"Const_12:0\", shape=(), dtype=float32)\n"
     ]
    }
   ],
   "source": [
    "import tensorflow as tf\n",
    "\n",
    "tf_string = tf.constant('hello tensorflow')\n",
    "tf_int = tf.constant(10)\n",
    "tf_float = tf.constant(3.14)\n",
    "\n",
    "print(tf_string)\n",
    "print(tf_int)\n",
    "print(tf_float)\n"
   ]
  },
  {
   "cell_type": "code",
   "execution_count": 2,
   "metadata": {},
   "outputs": [
    {
     "data": {
      "text/plain": [
       "'Const:0'"
      ]
     },
     "execution_count": 2,
     "metadata": {},
     "output_type": "execute_result"
    }
   ],
   "source": [
    "tf_string.name"
   ]
  },
  {
   "cell_type": "code",
   "execution_count": 3,
   "metadata": {},
   "outputs": [
    {
     "data": {
      "text/plain": [
       "TensorShape([])"
      ]
     },
     "execution_count": 3,
     "metadata": {},
     "output_type": "execute_result"
    }
   ],
   "source": [
    "tf_string.shape"
   ]
  },
  {
   "cell_type": "code",
   "execution_count": 4,
   "metadata": {},
   "outputs": [
    {
     "data": {
      "text/plain": [
       "tf.string"
      ]
     },
     "execution_count": 4,
     "metadata": {},
     "output_type": "execute_result"
    }
   ],
   "source": [
    "tf_string.dtype"
   ]
  },
  {
   "cell_type": "code",
   "execution_count": 6,
   "metadata": {},
   "outputs": [
    {
     "name": "stdout",
     "output_type": "stream",
     "text": [
      "Tensor(\"MatMul:0\", shape=(1, 1), dtype=int32)\n"
     ]
    }
   ],
   "source": [
    "one = tf.constant([[1, 1, 1]])\n",
    "two = tf.constant([[2], [2], [2]])\n",
    "\n",
    "matmul = tf.matmul(one, two)\n",
    "print(matmul)"
   ]
  },
  {
   "cell_type": "code",
   "execution_count": 7,
   "metadata": {},
   "outputs": [
    {
     "name": "stdout",
     "output_type": "stream",
     "text": [
      "Tensor(\"MatMul_1:0\", shape=(3, 1), dtype=int32)\n"
     ]
    }
   ],
   "source": [
    "one = tf.constant([[1, 2, 3], [4, 5, 6], [7, 8, 9]])\n",
    "two = tf.constant([[2], [2], [2]])\n",
    "\n",
    "matmul = tf.matmul(one, two)\n",
    "print(matmul)"
   ]
  },
  {
   "cell_type": "markdown",
   "metadata": {},
   "source": [
    "## Session"
   ]
  },
  {
   "cell_type": "code",
   "execution_count": 10,
   "metadata": {},
   "outputs": [
    {
     "name": "stdout",
     "output_type": "stream",
     "text": [
      "b'hello tensorflow'\n",
      "10\n",
      "3.14\n"
     ]
    }
   ],
   "source": [
    "import tensorflow as tf\n",
    "\n",
    "tf_string = tf.constant('hello tensorflow')\n",
    "tf_int = tf.constant(10)\n",
    "tf_float = tf.constant(3.14)\n",
    "\n",
    "with tf.Session() as sess:\n",
    "    _tf_string = sess.run(tf_string)\n",
    "    _tf_int = sess.run(tf_int)\n",
    "    _tf_float = sess.run(tf_float)\n",
    "    \n",
    "    print(_tf_string)\n",
    "    print(_tf_int)\n",
    "    print(_tf_float)"
   ]
  },
  {
   "cell_type": "code",
   "execution_count": 15,
   "metadata": {},
   "outputs": [
    {
     "name": "stdout",
     "output_type": "stream",
     "text": [
      "[[6]]\n"
     ]
    }
   ],
   "source": [
    "one = tf.constant([[1, 1, 1]])\n",
    "two = tf.constant([[2], [2], [2]])\n",
    "\n",
    "matmul = tf.matmul(one, two)\n",
    "\n",
    "with tf.Session() as sess:\n",
    "    _matmul = sess.run(matmul)\n",
    "    print(_matmul)"
   ]
  },
  {
   "cell_type": "code",
   "execution_count": 16,
   "metadata": {},
   "outputs": [
    {
     "name": "stdout",
     "output_type": "stream",
     "text": [
      "[[12]\n",
      " [30]\n",
      " [48]]\n"
     ]
    }
   ],
   "source": [
    "one = tf.constant([[1, 2, 3], [4, 5, 6], [7, 8, 9]])\n",
    "two = tf.constant([[2], [2], [2]])\n",
    "\n",
    "matmul = tf.matmul(one, two)\n",
    "with tf.Session() as sess:\n",
    "    _matmul = sess.run(matmul)\n",
    "    print(_matmul)"
   ]
  },
  {
   "cell_type": "code",
   "execution_count": 19,
   "metadata": {},
   "outputs": [
    {
     "name": "stdout",
     "output_type": "stream",
     "text": [
      "[[1 1 1]]\n",
      "[[2]\n",
      " [2]\n",
      " [2]]\n",
      "[[6]]\n"
     ]
    }
   ],
   "source": [
    "one = tf.constant([[1, 1, 1]])\n",
    "two = tf.constant([[2], [2], [2]])\n",
    "\n",
    "matmul = tf.matmul(one, two)\n",
    "\n",
    "with tf.Session() as sess:\n",
    "    _one, _two, _matmul = sess.run([one, two, matmul])\n",
    "    print(_one)\n",
    "    print(_two)\n",
    "    print(_matmul)\n",
    "    "
   ]
  },
  {
   "cell_type": "markdown",
   "metadata": {},
   "source": [
    "## constant"
   ]
  },
  {
   "cell_type": "code",
   "execution_count": 20,
   "metadata": {},
   "outputs": [
    {
     "name": "stdout",
     "output_type": "stream",
     "text": [
      "10\n"
     ]
    }
   ],
   "source": [
    "const = tf.constant(10)\n",
    "\n",
    "with tf.Session() as sess:\n",
    "    print(sess.run(const))"
   ]
  },
  {
   "cell_type": "markdown",
   "metadata": {},
   "source": [
    "## placeholder"
   ]
  },
  {
   "cell_type": "code",
   "execution_count": 21,
   "metadata": {},
   "outputs": [
    {
     "name": "stdout",
     "output_type": "stream",
     "text": [
      "[ 1.  2.  3.  4.  5.]\n"
     ]
    }
   ],
   "source": [
    "data = [1, 2, 3, 4, 5]\n",
    "p1_data = tf.placeholder(tf.float32)\n",
    "\n",
    "with tf.Session() as sess:\n",
    "    print(sess.run(p1_data, {p1_data: data}))"
   ]
  },
  {
   "cell_type": "markdown",
   "metadata": {},
   "source": [
    "## variable"
   ]
  },
  {
   "cell_type": "code",
   "execution_count": 23,
   "metadata": {},
   "outputs": [
    {
     "name": "stdout",
     "output_type": "stream",
     "text": [
      "10\n"
     ]
    }
   ],
   "source": [
    "var = tf.Variable(10)\n",
    "\n",
    "with tf.Session() as sess:\n",
    "    sess.run(tf.global_variables_initializer())\n",
    "    print(sess.run(var))"
   ]
  },
  {
   "cell_type": "markdown",
   "metadata": {},
   "source": [
    "# Linear Regression"
   ]
  },
  {
   "cell_type": "code",
   "execution_count": 24,
   "metadata": {
    "collapsed": true
   },
   "outputs": [],
   "source": [
    "import tensorflow as tf\n",
    "import matplotlib.pyplot as plt\n",
    "import numpy as np\n",
    "%matplotlib inline"
   ]
  },
  {
   "cell_type": "code",
   "execution_count": 93,
   "metadata": {},
   "outputs": [
    {
     "name": "stdout",
     "output_type": "stream",
     "text": [
      "[ 4.55629491  2.03062224  4.52790163  5.05746692  2.91991162  3.57150729\n",
      "  3.09071638  4.34334741  2.45633823  3.07356605]\n"
     ]
    }
   ],
   "source": [
    "samples = 1000\n",
    "#사칙연산하기 위해 np.array 씌우기\n",
    "data = np.array([1e-2 * float(i) for i in range(samples)])\n",
    "label = 3.3*data + 2.7 + np.random.randn(samples)\n",
    "target = 3.3*data + 2.7\n",
    "print(label[:10])"
   ]
  },
  {
   "cell_type": "code",
   "execution_count": 41,
   "metadata": {},
   "outputs": [
    {
     "data": {
      "text/plain": [
       "[<matplotlib.lines.Line2D at 0x114dfb828>]"
      ]
     },
     "execution_count": 41,
     "metadata": {},
     "output_type": "execute_result"
    },
    {
     "data": {
      "image/png": "[encoded data removed]",
      "text/plain": [
       "<matplotlib.figure.Figure at 0x114ca91d0>"
      ]
     },
     "metadata": {},
     "output_type": "display_data"
    }
   ],
   "source": [
    "plt.plot(label)"
   ]
  },
  {
   "cell_type": "code",
   "execution_count": 43,
   "metadata": {},
   "outputs": [
    {
     "data": {
      "text/plain": [
       "<matplotlib.collections.PathCollection at 0x114baf6a0>"
      ]
     },
     "execution_count": 43,
     "metadata": {},
     "output_type": "execute_result"
    },
    {
     "data": {
      "image/png": "[encoded data removed]",
      "text/plain": [
       "<matplotlib.figure.Figure at 0x114c7f0b8>"
      ]
     },
     "metadata": {},
     "output_type": "display_data"
    }
   ],
   "source": [
    "plt.scatter(data, label, 1, 'r')\n",
    "plt.scatter(data, target, 1, 'b')"
   ]
  },
  {
   "cell_type": "code",
   "execution_count": 44,
   "metadata": {
    "collapsed": true
   },
   "outputs": [],
   "source": [
    "x = tf.placeholder(tf.float32)\n",
    "y_ = tf.placeholder(tf.float32)"
   ]
  },
  {
   "cell_type": "code",
   "execution_count": 45,
   "metadata": {
    "collapsed": true
   },
   "outputs": [],
   "source": [
    "w = tf.Variable(8.8)\n",
    "b = tf.Variable(-4.0)"
   ]
  },
  {
   "cell_type": "code",
   "execution_count": 46,
   "metadata": {
    "collapsed": true
   },
   "outputs": [],
   "source": [
    "y = w*x + b"
   ]
  },
  {
   "cell_type": "code",
   "execution_count": 76,
   "metadata": {},
   "outputs": [],
   "source": [
    "loss = tf.losses.mean_squared_error(y_, y)\n",
    "train_op = tf.train.GradientDescentOptimizer(learning_rate=0.01).minimize(loss)"
   ]
  },
  {
   "cell_type": "code",
   "execution_count": 77,
   "metadata": {
    "collapsed": true
   },
   "outputs": [],
   "source": [
    "init = tf.global_variables_initializer()"
   ]
  },
  {
   "cell_type": "code",
   "execution_count": 81,
   "metadata": {},
   "outputs": [
    {
     "name": "stdout",
     "output_type": "stream",
     "text": [
      "0 686.066\n",
      "100 6.13072\n",
      "200 2.95408\n",
      "300 1.76386\n",
      "400 1.31791\n",
      "500 1.15082\n",
      "600 1.08822\n",
      "700 1.06476\n",
      "800 1.05598\n",
      "900 1.05268\n",
      "1000 1.05145\n"
     ]
    },
    {
     "data": {
      "image/png": "[encoded data removed]",
      "text/plain": [
       "<matplotlib.figure.Figure at 0x117e14a20>"
      ]
     },
     "metadata": {},
     "output_type": "display_data"
    },
    {
     "data": {
      "image/png": "[encoded data removed]",
      "text/plain": [
       "<matplotlib.figure.Figure at 0x1148147b8>"
      ]
     },
     "metadata": {},
     "output_type": "display_data"
    }
   ],
   "source": [
    "with tf.Session() as sess:\n",
    "    sess.run(init)\n",
    "    loss_curve = [] \n",
    "    plt.scatter(data, label, 1, 'g')\n",
    "    for i in range(1001):\n",
    "        _, _loss = sess.run([train_op, loss], {x: data, y_: label})\n",
    "        loss_curve.append(_loss)\n",
    "        if i % 100 == 0:\n",
    "            _pred = sess.run(y, {x: data})\n",
    "            plt.scatter(data, _pred, 1, 'r')\n",
    "            print(i, _loss)\n",
    "    \n",
    "    plt.figure(0)\n",
    "    plt.plot(loss_curve[10:])\n",
    "    plt.figure(1)\n",
    "    plt.scatter(data, target, 1, 'b')"
   ]
  },
  {
   "cell_type": "code",
   "execution_count": 83,
   "metadata": {},
   "outputs": [
    {
     "name": "stdout",
     "output_type": "stream",
     "text": [
      "step: 0, loss: 686.0661010742188, w: 5.80492639541626, b: -4.415964126586914\n",
      "step: 100, loss: 6.130721092224121, w: 3.973618745803833, b: -1.7877154350280762\n",
      "step: 200, loss: 2.95408034324646, w: 3.710777997970581, b: -0.04920220747590065\n",
      "step: 300, loss: 1.7638617753982544, w: 3.5498905181884766, b: 1.0149589776992798\n",
      "step: 400, loss: 1.317911982536316, w: 3.4514095783233643, b: 1.6663434505462646\n",
      "step: 500, loss: 1.1508244276046753, w: 3.3911285400390625, b: 2.0650618076324463\n",
      "step: 600, loss: 1.0882203578948975, w: 3.3542299270629883, b: 2.3091204166412354\n",
      "step: 700, loss: 1.0647635459899902, w: 3.33164381980896, b: 2.458512544631958\n",
      "step: 800, loss: 1.055975079536438, w: 3.3178188800811768, b: 2.5499556064605713\n",
      "step: 900, loss: 1.0526821613311768, w: 3.309356212615967, b: 2.605929374694824\n",
      "step: 1000, loss: 1.0514485836029053, w: 3.3041763305664062, b: 2.6401913166046143\n"
     ]
    },
    {
     "data": {
      "image/png": "[encoded data removed]",
      "text/plain": [
       "<matplotlib.figure.Figure at 0x117fe1be0>"
      ]
     },
     "metadata": {},
     "output_type": "display_data"
    },
    {
     "data": {
      "image/png": "[encoded data removed]",
      "text/plain": [
       "<matplotlib.figure.Figure at 0x115fb2588>"
      ]
     },
     "metadata": {},
     "output_type": "display_data"
    }
   ],
   "source": [
    "with tf.Session() as sess:\n",
    "    sess.run(init)\n",
    "    loss_curve = [] \n",
    "    plt.scatter(data, label, 1, 'g')\n",
    "    for i in range(1001):\n",
    "        _, _loss, _w, _b = sess.run([train_op, loss, w, b], {x: data, y_: label})\n",
    "        loss_curve.append(_loss)\n",
    "        if i % 100 == 0:\n",
    "            _pred = sess.run(y, {x: data})\n",
    "            plt.scatter(data, _pred, 1, 'r')\n",
    "            print('step: {}, loss: {}, w: {}, b: {}'.format(\\\n",
    "                                            i, _loss, _w, _b))\n",
    "    \n",
    "    plt.figure(0)\n",
    "    plt.plot(loss_curve[10:])\n",
    "    plt.figure(1)\n",
    "    plt.scatter(data, target, 1, 'b')"
   ]
  },
  {
   "cell_type": "markdown",
   "metadata": {},
   "source": [
    "# Logistic Regression"
   ]
  },
  {
   "cell_type": "code",
   "execution_count": 89,
   "metadata": {
    "collapsed": true
   },
   "outputs": [],
   "source": [
    "import tensorflow as tf\n",
    "import numpy as np\n",
    "import matplotlib.pyplot as plt\n",
    "%matplotlib inline"
   ]
  },
  {
   "cell_type": "code",
   "execution_count": 96,
   "metadata": {},
   "outputs": [
    {
     "data": {
      "text/plain": [
       "<matplotlib.collections.PathCollection at 0x1195b22e8>"
      ]
     },
     "execution_count": 96,
     "metadata": {},
     "output_type": "execute_result"
    },
    {
     "data": {
      "image/png": "[encoded data removed]",
      "text/plain": [
       "<matplotlib.figure.Figure at 0x1195b2f98>"
      ]
     },
     "metadata": {},
     "output_type": "display_data"
    }
   ],
   "source": [
    "samples = 1000\n",
    "\n",
    "data = [1e-2*float(i) for i in range(-samples, samples)]\n",
    "label = [1 if i > 3.14 else 0 for i in range(-samples, samples)]\n",
    "plt.scatter(data, label, 1, 'r')"
   ]
  },
  {
   "cell_type": "code",
   "execution_count": 97,
   "metadata": {
    "collapsed": true
   },
   "outputs": [],
   "source": [
    "x = tf.placeholder(tf.float32)\n",
    "y_ = tf.placeholder(tf.float32)\n",
    "\n",
    "w = tf.Variable(0.0, dtype=tf.float32)\n",
    "b = tf.Variable(0.0, dtype=tf.float32)\n",
    "\n",
    "y = w*x + b"
   ]
  },
  {
   "cell_type": "code",
   "execution_count": 98,
   "metadata": {
    "collapsed": true
   },
   "outputs": [],
   "source": [
    "loss = tf.losses.sigmoid_cross_entropy(y_, y)\n",
    "train_op = tf.train.GradientDescentOptimizer(1e-2).minimize(loss)"
   ]
  },
  {
   "cell_type": "code",
   "execution_count": 105,
   "metadata": {
    "collapsed": true
   },
   "outputs": [],
   "source": [
    "init = tf.global_variables_initializer()"
   ]
  },
  {
   "cell_type": "markdown",
   "metadata": {},
   "source": [
    "## ML_lab_05"
   ]
  },
  {
   "cell_type": "code",
   "execution_count": 99,
   "metadata": {
    "collapsed": true
   },
   "outputs": [],
   "source": [
    "predicted = tf.cast(y > 0.5, dtype=tf.float32)\n",
    "accuracy = tf.reduce_mean(tf.cast(tf.equal(predicted, y_), dtype=tf.float32))"
   ]
  },
  {
   "cell_type": "code",
   "execution_count": 107,
   "metadata": {},
   "outputs": [
    {
     "name": "stdout",
     "output_type": "stream",
     "text": [
      "0 0.693146\n",
      "100 0.139421\n",
      "200 0.107458\n",
      "300 0.0928943\n",
      "400 0.0839527\n",
      "500 0.0776865\n",
      "600 0.072951\n",
      "700 0.0691929\n",
      "800 0.0661063\n",
      "900 0.063506\n",
      "1000 0.0612719\n",
      "\n",
      "Hypothesis: \n",
      " [-13.44625568 -13.43282318 -13.41939068 ...,  13.37765503  13.39108562\n",
      "  13.40451813] \n",
      "Correct (Y): \n",
      " [ 0.  0.  0. ...,  1.  1.  1.] \n",
      "Accuracy: \n",
      " 0.9825\n"
     ]
    }
   ],
   "source": [
    "with tf.Session() as sess:\n",
    "    sess.run(init)\n",
    "    \n",
    "    for step in range(1001):\n",
    "        _loss, _ = sess.run([loss, train_op], feed_dict={x: data, y_: label})\n",
    "        if step % 100 == 0:\n",
    "            print(step, _loss)\n",
    "            \n",
    "    h, c, a = sess.run([y, predicted, accuracy], feed_dict={x: data, y_: label})\n",
    "    print(\"\\nHypothesis: \\n\", h, \"\\nCorrect (Y): \\n\", c, \"\\nAccuracy: \\n\", a)\n",
    "    "
   ]
  },
  {
   "cell_type": "markdown",
   "metadata": {},
   "source": [
    "## class01"
   ]
  },
  {
   "cell_type": "code",
   "execution_count": 110,
   "metadata": {},
   "outputs": [
    {
     "name": "stdout",
     "output_type": "stream",
     "text": [
      "step: 0, loss: 0.6931459307670593\n",
      "step: 200, loss: 0.10745800286531448\n",
      "step: 400, loss: 0.0839526578783989\n",
      "step: 600, loss: 0.07295096665620804\n",
      "step: 800, loss: 0.06610629707574844\n",
      "step: 1000, loss: 0.061271924525499344\n",
      "step: 1200, loss: 0.05759963393211365\n",
      "step: 1400, loss: 0.05467473343014717\n",
      "step: 1600, loss: 0.05226598680019379\n",
      "step: 1800, loss: 0.05023253709077835\n",
      "step: 2000, loss: 0.04848265275359154\n",
      "step: 2200, loss: 0.04695364832878113\n",
      "step: 2400, loss: 0.04560094699263573\n",
      "step: 2600, loss: 0.04439175873994827\n",
      "step: 2800, loss: 0.04330141097307205\n",
      "step: 3000, loss: 0.04231085628271103\n",
      "step: 3200, loss: 0.041405148804187775\n",
      "step: 3400, loss: 0.04057229682803154\n",
      "step: 3600, loss: 0.03980265185236931\n",
      "step: 3800, loss: 0.03908826783299446\n",
      "step: 4000, loss: 0.03842253237962723\n",
      "step: 4200, loss: 0.03779996186494827\n",
      "step: 4400, loss: 0.03721586614847183\n",
      "step: 4600, loss: 0.03666627034544945\n",
      "step: 4800, loss: 0.03614775836467743\n",
      "step: 5000, loss: 0.035657383501529694\n",
      "step: 5200, loss: 0.03519256412982941\n",
      "step: 5400, loss: 0.03475106880068779\n",
      "step: 5600, loss: 0.03433091565966606\n",
      "step: 5800, loss: 0.033930372446775436\n",
      "step: 6000, loss: 0.033547889441251755\n",
      "step: 6200, loss: 0.03318207710981369\n",
      "step: 6400, loss: 0.032831717282533646\n",
      "step: 6600, loss: 0.03249567747116089\n",
      "step: 6800, loss: 0.03217301145195961\n",
      "step: 7000, loss: 0.031862787902355194\n",
      "step: 7200, loss: 0.03156418353319168\n",
      "step: 7400, loss: 0.031276457011699677\n",
      "step: 7600, loss: 0.030998947098851204\n",
      "step: 7800, loss: 0.030731026083230972\n",
      "step: 8000, loss: 0.030472125858068466\n",
      "step: 8200, loss: 0.03022175282239914\n",
      "step: 8400, loss: 0.029979392886161804\n",
      "step: 8600, loss: 0.029744628816843033\n",
      "step: 8800, loss: 0.029517047107219696\n",
      "step: 9000, loss: 0.029296277090907097\n",
      "step: 9200, loss: 0.029081951826810837\n",
      "step: 9400, loss: 0.028873763978481293\n",
      "step: 9600, loss: 0.028671421110630035\n",
      "step: 9800, loss: 0.028474638238549232\n",
      "step: 10000, loss: 0.02828313410282135\n"
     ]
    },
    {
     "data": {
      "image/png": "[encoded data removed]",
      "text/plain": [
       "<matplotlib.figure.Figure at 0x11771d358>"
      ]
     },
     "metadata": {},
     "output_type": "display_data"
    }
   ],
   "source": [
    "with tf.Session() as sess:\n",
    "    sess.run(init)\n",
    "    for step in range(10001):\n",
    "        _loss, _ = sess.run([loss, train_op], feed_dict={x: data, y_: label})\n",
    "        if step % 200 == 0:\n",
    "            _pred = sess.run(tf.nn.sigmoid(y), {x: data})\n",
    "            plt.scatter(data, label, 1, 'b')\n",
    "            plt.scatter(data, _pred, 1, 'r')\n",
    "            print('step: {}, loss: {}'.format(step, _loss))"
   ]
  },
  {
   "cell_type": "code",
   "execution_count": null,
   "metadata": {
    "collapsed": true
   },
   "outputs": [],
   "source": []
  }
 ],
 "metadata": {
  "kernelspec": {
   "display_name": "Python 3",
   "language": "python",
   "name": "python3"
  },
  "language_info": {
   "codemirror_mode": {
    "name": "ipython",
    "version": 3
   },
   "file_extension": ".py",
   "mimetype": "text/x-python",
   "name": "python",
   "nbconvert_exporter": "python",
   "pygments_lexer": "ipython3",
   "version": "3.5.1"
  }
 },
 "nbformat": 4,
 "nbformat_minor": 2
}
